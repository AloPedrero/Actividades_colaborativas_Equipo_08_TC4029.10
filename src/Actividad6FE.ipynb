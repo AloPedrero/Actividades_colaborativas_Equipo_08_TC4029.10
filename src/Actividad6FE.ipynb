{
  "cells": [
    {
      "cell_type": "markdown",
      "metadata": {
        "id": "0v5lZjzQZTms"
      },
      "source": [
        "**MAESTRÍA EN INTELIGENCIA ARTIFICIAL APLICADA**\n",
        "\n",
        "**Curso: TC4029 - Ciencia y analítica de datos**\n",
        "\n",
        "Tecnológico de Monterrey\n",
        "\n",
        "Prof Grettel Barceló Alonso\n",
        "\n",
        "**Semana 6**\n",
        "Ingeniería de características (FE)\n",
        "\n",
        "---"
      ]
    },
    {
      "cell_type": "markdown",
      "metadata": {
        "id": "HfLoXtuKuCug"
      },
      "source": [
        "*   NOMBRE: ---------------------------------------------------------\n",
        "*   MATRÍCULA: ----------------------------------------------------\n",
        "\n",
        "\n",
        "*   NOMBRE: ---------------------------------------------------------\n",
        "*   MATRÍCULA: ----------------------------------------------------\n",
        "\n",
        "\n",
        "*   NOMBRE: ---------------------------------------------------------\n",
        "*   MATRÍCULA: ----------------------------------------------------"
      ]
    },
    {
      "cell_type": "code",
      "execution_count": 1,
      "metadata": {},
      "outputs": [],
      "source": [
        "import pandas as pd\n",
        "from scipy.stats import skew\n",
        "import seaborn as sns\n",
        "import matplotlib.pyplot as plt"
      ]
    },
    {
      "cell_type": "code",
      "execution_count": 2,
      "metadata": {},
      "outputs": [
        {
          "data": {
            "text/html": [
              "<div>\n",
              "<style scoped>\n",
              "    .dataframe tbody tr th:only-of-type {\n",
              "        vertical-align: middle;\n",
              "    }\n",
              "\n",
              "    .dataframe tbody tr th {\n",
              "        vertical-align: top;\n",
              "    }\n",
              "\n",
              "    .dataframe thead th {\n",
              "        text-align: right;\n",
              "    }\n",
              "</style>\n",
              "<table border=\"1\" class=\"dataframe\">\n",
              "  <thead>\n",
              "    <tr style=\"text-align: right;\">\n",
              "      <th></th>\n",
              "      <th>id</th>\n",
              "      <th>url</th>\n",
              "      <th>region</th>\n",
              "      <th>region_url</th>\n",
              "      <th>price</th>\n",
              "      <th>year</th>\n",
              "      <th>manufacturer</th>\n",
              "      <th>model</th>\n",
              "      <th>condition</th>\n",
              "      <th>cylinders</th>\n",
              "      <th>...</th>\n",
              "      <th>size</th>\n",
              "      <th>type</th>\n",
              "      <th>paint_color</th>\n",
              "      <th>image_url</th>\n",
              "      <th>description</th>\n",
              "      <th>county</th>\n",
              "      <th>state</th>\n",
              "      <th>lat</th>\n",
              "      <th>long</th>\n",
              "      <th>posting_date</th>\n",
              "    </tr>\n",
              "  </thead>\n",
              "  <tbody>\n",
              "    <tr>\n",
              "      <th>0</th>\n",
              "      <td>7222695916</td>\n",
              "      <td>https://prescott.craigslist.org/cto/d/prescott...</td>\n",
              "      <td>prescott</td>\n",
              "      <td>https://prescott.craigslist.org</td>\n",
              "      <td>6000</td>\n",
              "      <td>NaN</td>\n",
              "      <td>NaN</td>\n",
              "      <td>NaN</td>\n",
              "      <td>NaN</td>\n",
              "      <td>NaN</td>\n",
              "      <td>...</td>\n",
              "      <td>NaN</td>\n",
              "      <td>NaN</td>\n",
              "      <td>NaN</td>\n",
              "      <td>NaN</td>\n",
              "      <td>NaN</td>\n",
              "      <td>NaN</td>\n",
              "      <td>az</td>\n",
              "      <td>NaN</td>\n",
              "      <td>NaN</td>\n",
              "      <td>NaN</td>\n",
              "    </tr>\n",
              "    <tr>\n",
              "      <th>1</th>\n",
              "      <td>7218891961</td>\n",
              "      <td>https://fayar.craigslist.org/ctd/d/bentonville...</td>\n",
              "      <td>fayetteville</td>\n",
              "      <td>https://fayar.craigslist.org</td>\n",
              "      <td>11900</td>\n",
              "      <td>NaN</td>\n",
              "      <td>NaN</td>\n",
              "      <td>NaN</td>\n",
              "      <td>NaN</td>\n",
              "      <td>NaN</td>\n",
              "      <td>...</td>\n",
              "      <td>NaN</td>\n",
              "      <td>NaN</td>\n",
              "      <td>NaN</td>\n",
              "      <td>NaN</td>\n",
              "      <td>NaN</td>\n",
              "      <td>NaN</td>\n",
              "      <td>ar</td>\n",
              "      <td>NaN</td>\n",
              "      <td>NaN</td>\n",
              "      <td>NaN</td>\n",
              "    </tr>\n",
              "    <tr>\n",
              "      <th>2</th>\n",
              "      <td>7221797935</td>\n",
              "      <td>https://keys.craigslist.org/cto/d/summerland-k...</td>\n",
              "      <td>florida keys</td>\n",
              "      <td>https://keys.craigslist.org</td>\n",
              "      <td>21000</td>\n",
              "      <td>NaN</td>\n",
              "      <td>NaN</td>\n",
              "      <td>NaN</td>\n",
              "      <td>NaN</td>\n",
              "      <td>NaN</td>\n",
              "      <td>...</td>\n",
              "      <td>NaN</td>\n",
              "      <td>NaN</td>\n",
              "      <td>NaN</td>\n",
              "      <td>NaN</td>\n",
              "      <td>NaN</td>\n",
              "      <td>NaN</td>\n",
              "      <td>fl</td>\n",
              "      <td>NaN</td>\n",
              "      <td>NaN</td>\n",
              "      <td>NaN</td>\n",
              "    </tr>\n",
              "    <tr>\n",
              "      <th>3</th>\n",
              "      <td>7222270760</td>\n",
              "      <td>https://worcester.craigslist.org/cto/d/west-br...</td>\n",
              "      <td>worcester / central MA</td>\n",
              "      <td>https://worcester.craigslist.org</td>\n",
              "      <td>1500</td>\n",
              "      <td>NaN</td>\n",
              "      <td>NaN</td>\n",
              "      <td>NaN</td>\n",
              "      <td>NaN</td>\n",
              "      <td>NaN</td>\n",
              "      <td>...</td>\n",
              "      <td>NaN</td>\n",
              "      <td>NaN</td>\n",
              "      <td>NaN</td>\n",
              "      <td>NaN</td>\n",
              "      <td>NaN</td>\n",
              "      <td>NaN</td>\n",
              "      <td>ma</td>\n",
              "      <td>NaN</td>\n",
              "      <td>NaN</td>\n",
              "      <td>NaN</td>\n",
              "    </tr>\n",
              "    <tr>\n",
              "      <th>4</th>\n",
              "      <td>7210384030</td>\n",
              "      <td>https://greensboro.craigslist.org/cto/d/trinit...</td>\n",
              "      <td>greensboro</td>\n",
              "      <td>https://greensboro.craigslist.org</td>\n",
              "      <td>4900</td>\n",
              "      <td>NaN</td>\n",
              "      <td>NaN</td>\n",
              "      <td>NaN</td>\n",
              "      <td>NaN</td>\n",
              "      <td>NaN</td>\n",
              "      <td>...</td>\n",
              "      <td>NaN</td>\n",
              "      <td>NaN</td>\n",
              "      <td>NaN</td>\n",
              "      <td>NaN</td>\n",
              "      <td>NaN</td>\n",
              "      <td>NaN</td>\n",
              "      <td>nc</td>\n",
              "      <td>NaN</td>\n",
              "      <td>NaN</td>\n",
              "      <td>NaN</td>\n",
              "    </tr>\n",
              "    <tr>\n",
              "      <th>...</th>\n",
              "      <td>...</td>\n",
              "      <td>...</td>\n",
              "      <td>...</td>\n",
              "      <td>...</td>\n",
              "      <td>...</td>\n",
              "      <td>...</td>\n",
              "      <td>...</td>\n",
              "      <td>...</td>\n",
              "      <td>...</td>\n",
              "      <td>...</td>\n",
              "      <td>...</td>\n",
              "      <td>...</td>\n",
              "      <td>...</td>\n",
              "      <td>...</td>\n",
              "      <td>...</td>\n",
              "      <td>...</td>\n",
              "      <td>...</td>\n",
              "      <td>...</td>\n",
              "      <td>...</td>\n",
              "      <td>...</td>\n",
              "      <td>...</td>\n",
              "    </tr>\n",
              "    <tr>\n",
              "      <th>426875</th>\n",
              "      <td>7301591192</td>\n",
              "      <td>https://wyoming.craigslist.org/ctd/d/atlanta-2...</td>\n",
              "      <td>wyoming</td>\n",
              "      <td>https://wyoming.craigslist.org</td>\n",
              "      <td>23590</td>\n",
              "      <td>2019.0</td>\n",
              "      <td>nissan</td>\n",
              "      <td>maxima s sedan 4d</td>\n",
              "      <td>good</td>\n",
              "      <td>6 cylinders</td>\n",
              "      <td>...</td>\n",
              "      <td>NaN</td>\n",
              "      <td>sedan</td>\n",
              "      <td>NaN</td>\n",
              "      <td>https://images.craigslist.org/00o0o_iiraFnHg8q...</td>\n",
              "      <td>Carvana is the safer way to buy a car During t...</td>\n",
              "      <td>NaN</td>\n",
              "      <td>wy</td>\n",
              "      <td>33.786500</td>\n",
              "      <td>-84.445400</td>\n",
              "      <td>2021-04-04T03:21:31-0600</td>\n",
              "    </tr>\n",
              "    <tr>\n",
              "      <th>426876</th>\n",
              "      <td>7301591187</td>\n",
              "      <td>https://wyoming.craigslist.org/ctd/d/atlanta-2...</td>\n",
              "      <td>wyoming</td>\n",
              "      <td>https://wyoming.craigslist.org</td>\n",
              "      <td>30590</td>\n",
              "      <td>2020.0</td>\n",
              "      <td>volvo</td>\n",
              "      <td>s60 t5 momentum sedan 4d</td>\n",
              "      <td>good</td>\n",
              "      <td>NaN</td>\n",
              "      <td>...</td>\n",
              "      <td>NaN</td>\n",
              "      <td>sedan</td>\n",
              "      <td>red</td>\n",
              "      <td>https://images.craigslist.org/00x0x_15sbgnxCIS...</td>\n",
              "      <td>Carvana is the safer way to buy a car During t...</td>\n",
              "      <td>NaN</td>\n",
              "      <td>wy</td>\n",
              "      <td>33.786500</td>\n",
              "      <td>-84.445400</td>\n",
              "      <td>2021-04-04T03:21:29-0600</td>\n",
              "    </tr>\n",
              "    <tr>\n",
              "      <th>426877</th>\n",
              "      <td>7301591147</td>\n",
              "      <td>https://wyoming.craigslist.org/ctd/d/atlanta-2...</td>\n",
              "      <td>wyoming</td>\n",
              "      <td>https://wyoming.craigslist.org</td>\n",
              "      <td>34990</td>\n",
              "      <td>2020.0</td>\n",
              "      <td>cadillac</td>\n",
              "      <td>xt4 sport suv 4d</td>\n",
              "      <td>good</td>\n",
              "      <td>NaN</td>\n",
              "      <td>...</td>\n",
              "      <td>NaN</td>\n",
              "      <td>hatchback</td>\n",
              "      <td>white</td>\n",
              "      <td>https://images.craigslist.org/00L0L_farM7bxnxR...</td>\n",
              "      <td>Carvana is the safer way to buy a car During t...</td>\n",
              "      <td>NaN</td>\n",
              "      <td>wy</td>\n",
              "      <td>33.779214</td>\n",
              "      <td>-84.411811</td>\n",
              "      <td>2021-04-04T03:21:17-0600</td>\n",
              "    </tr>\n",
              "    <tr>\n",
              "      <th>426878</th>\n",
              "      <td>7301591140</td>\n",
              "      <td>https://wyoming.craigslist.org/ctd/d/atlanta-2...</td>\n",
              "      <td>wyoming</td>\n",
              "      <td>https://wyoming.craigslist.org</td>\n",
              "      <td>28990</td>\n",
              "      <td>2018.0</td>\n",
              "      <td>lexus</td>\n",
              "      <td>es 350 sedan 4d</td>\n",
              "      <td>good</td>\n",
              "      <td>6 cylinders</td>\n",
              "      <td>...</td>\n",
              "      <td>NaN</td>\n",
              "      <td>sedan</td>\n",
              "      <td>silver</td>\n",
              "      <td>https://images.craigslist.org/00z0z_bKnIVGLkDT...</td>\n",
              "      <td>Carvana is the safer way to buy a car During t...</td>\n",
              "      <td>NaN</td>\n",
              "      <td>wy</td>\n",
              "      <td>33.786500</td>\n",
              "      <td>-84.445400</td>\n",
              "      <td>2021-04-04T03:21:11-0600</td>\n",
              "    </tr>\n",
              "    <tr>\n",
              "      <th>426879</th>\n",
              "      <td>7301591129</td>\n",
              "      <td>https://wyoming.craigslist.org/ctd/d/atlanta-2...</td>\n",
              "      <td>wyoming</td>\n",
              "      <td>https://wyoming.craigslist.org</td>\n",
              "      <td>30590</td>\n",
              "      <td>2019.0</td>\n",
              "      <td>bmw</td>\n",
              "      <td>4 series 430i gran coupe</td>\n",
              "      <td>good</td>\n",
              "      <td>NaN</td>\n",
              "      <td>...</td>\n",
              "      <td>NaN</td>\n",
              "      <td>coupe</td>\n",
              "      <td>NaN</td>\n",
              "      <td>https://images.craigslist.org/00Y0Y_lEUocjyRxa...</td>\n",
              "      <td>Carvana is the safer way to buy a car During t...</td>\n",
              "      <td>NaN</td>\n",
              "      <td>wy</td>\n",
              "      <td>33.779214</td>\n",
              "      <td>-84.411811</td>\n",
              "      <td>2021-04-04T03:21:07-0600</td>\n",
              "    </tr>\n",
              "  </tbody>\n",
              "</table>\n",
              "<p>426880 rows × 26 columns</p>\n",
              "</div>"
            ],
            "text/plain": [
              "                id                                                url  \\\n",
              "0       7222695916  https://prescott.craigslist.org/cto/d/prescott...   \n",
              "1       7218891961  https://fayar.craigslist.org/ctd/d/bentonville...   \n",
              "2       7221797935  https://keys.craigslist.org/cto/d/summerland-k...   \n",
              "3       7222270760  https://worcester.craigslist.org/cto/d/west-br...   \n",
              "4       7210384030  https://greensboro.craigslist.org/cto/d/trinit...   \n",
              "...            ...                                                ...   \n",
              "426875  7301591192  https://wyoming.craigslist.org/ctd/d/atlanta-2...   \n",
              "426876  7301591187  https://wyoming.craigslist.org/ctd/d/atlanta-2...   \n",
              "426877  7301591147  https://wyoming.craigslist.org/ctd/d/atlanta-2...   \n",
              "426878  7301591140  https://wyoming.craigslist.org/ctd/d/atlanta-2...   \n",
              "426879  7301591129  https://wyoming.craigslist.org/ctd/d/atlanta-2...   \n",
              "\n",
              "                        region                         region_url  price  \\\n",
              "0                     prescott    https://prescott.craigslist.org   6000   \n",
              "1                 fayetteville       https://fayar.craigslist.org  11900   \n",
              "2                 florida keys        https://keys.craigslist.org  21000   \n",
              "3       worcester / central MA   https://worcester.craigslist.org   1500   \n",
              "4                   greensboro  https://greensboro.craigslist.org   4900   \n",
              "...                        ...                                ...    ...   \n",
              "426875                 wyoming     https://wyoming.craigslist.org  23590   \n",
              "426876                 wyoming     https://wyoming.craigslist.org  30590   \n",
              "426877                 wyoming     https://wyoming.craigslist.org  34990   \n",
              "426878                 wyoming     https://wyoming.craigslist.org  28990   \n",
              "426879                 wyoming     https://wyoming.craigslist.org  30590   \n",
              "\n",
              "          year manufacturer                     model condition    cylinders  \\\n",
              "0          NaN          NaN                       NaN       NaN          NaN   \n",
              "1          NaN          NaN                       NaN       NaN          NaN   \n",
              "2          NaN          NaN                       NaN       NaN          NaN   \n",
              "3          NaN          NaN                       NaN       NaN          NaN   \n",
              "4          NaN          NaN                       NaN       NaN          NaN   \n",
              "...        ...          ...                       ...       ...          ...   \n",
              "426875  2019.0       nissan         maxima s sedan 4d      good  6 cylinders   \n",
              "426876  2020.0        volvo  s60 t5 momentum sedan 4d      good          NaN   \n",
              "426877  2020.0     cadillac          xt4 sport suv 4d      good          NaN   \n",
              "426878  2018.0        lexus           es 350 sedan 4d      good  6 cylinders   \n",
              "426879  2019.0          bmw  4 series 430i gran coupe      good          NaN   \n",
              "\n",
              "        ... size       type paint_color  \\\n",
              "0       ...  NaN        NaN         NaN   \n",
              "1       ...  NaN        NaN         NaN   \n",
              "2       ...  NaN        NaN         NaN   \n",
              "3       ...  NaN        NaN         NaN   \n",
              "4       ...  NaN        NaN         NaN   \n",
              "...     ...  ...        ...         ...   \n",
              "426875  ...  NaN      sedan         NaN   \n",
              "426876  ...  NaN      sedan         red   \n",
              "426877  ...  NaN  hatchback       white   \n",
              "426878  ...  NaN      sedan      silver   \n",
              "426879  ...  NaN      coupe         NaN   \n",
              "\n",
              "                                                image_url  \\\n",
              "0                                                     NaN   \n",
              "1                                                     NaN   \n",
              "2                                                     NaN   \n",
              "3                                                     NaN   \n",
              "4                                                     NaN   \n",
              "...                                                   ...   \n",
              "426875  https://images.craigslist.org/00o0o_iiraFnHg8q...   \n",
              "426876  https://images.craigslist.org/00x0x_15sbgnxCIS...   \n",
              "426877  https://images.craigslist.org/00L0L_farM7bxnxR...   \n",
              "426878  https://images.craigslist.org/00z0z_bKnIVGLkDT...   \n",
              "426879  https://images.craigslist.org/00Y0Y_lEUocjyRxa...   \n",
              "\n",
              "                                              description county state  \\\n",
              "0                                                     NaN    NaN    az   \n",
              "1                                                     NaN    NaN    ar   \n",
              "2                                                     NaN    NaN    fl   \n",
              "3                                                     NaN    NaN    ma   \n",
              "4                                                     NaN    NaN    nc   \n",
              "...                                                   ...    ...   ...   \n",
              "426875  Carvana is the safer way to buy a car During t...    NaN    wy   \n",
              "426876  Carvana is the safer way to buy a car During t...    NaN    wy   \n",
              "426877  Carvana is the safer way to buy a car During t...    NaN    wy   \n",
              "426878  Carvana is the safer way to buy a car During t...    NaN    wy   \n",
              "426879  Carvana is the safer way to buy a car During t...    NaN    wy   \n",
              "\n",
              "              lat       long              posting_date  \n",
              "0             NaN        NaN                       NaN  \n",
              "1             NaN        NaN                       NaN  \n",
              "2             NaN        NaN                       NaN  \n",
              "3             NaN        NaN                       NaN  \n",
              "4             NaN        NaN                       NaN  \n",
              "...           ...        ...                       ...  \n",
              "426875  33.786500 -84.445400  2021-04-04T03:21:31-0600  \n",
              "426876  33.786500 -84.445400  2021-04-04T03:21:29-0600  \n",
              "426877  33.779214 -84.411811  2021-04-04T03:21:17-0600  \n",
              "426878  33.786500 -84.445400  2021-04-04T03:21:11-0600  \n",
              "426879  33.779214 -84.411811  2021-04-04T03:21:07-0600  \n",
              "\n",
              "[426880 rows x 26 columns]"
            ]
          },
          "metadata": {},
          "output_type": "display_data"
        }
      ],
      "source": [
        "PATH = \"../files/vehicles.csv\"\n",
        "cars_df = pd.read_csv(PATH)\n",
        "display(cars_df)"
      ]
    },
    {
      "cell_type": "code",
      "execution_count": 3,
      "metadata": {
        "colab": {
          "base_uri": "https://localhost:8080/"
        },
        "id": "3qh5mTR11Gea",
        "outputId": "6be87261-afaf-4956-8587-af68d4cde688"
      },
      "outputs": [
        {
          "name": "stdout",
          "output_type": "stream",
          "text": [
            "<class 'pandas.core.frame.DataFrame'>\n",
            "RangeIndex: 426880 entries, 0 to 426879\n",
            "Data columns (total 26 columns):\n",
            " #   Column        Non-Null Count   Dtype  \n",
            "---  ------        --------------   -----  \n",
            " 0   id            426880 non-null  int64  \n",
            " 1   url           426880 non-null  object \n",
            " 2   region        426880 non-null  object \n",
            " 3   region_url    426880 non-null  object \n",
            " 4   price         426880 non-null  int64  \n",
            " 5   year          425675 non-null  float64\n",
            " 6   manufacturer  409234 non-null  object \n",
            " 7   model         421603 non-null  object \n",
            " 8   condition     252776 non-null  object \n",
            " 9   cylinders     249202 non-null  object \n",
            " 10  fuel          423867 non-null  object \n",
            " 11  odometer      422480 non-null  float64\n",
            " 12  title_status  418638 non-null  object \n",
            " 13  transmission  424324 non-null  object \n",
            " 14  VIN           265838 non-null  object \n",
            " 15  drive         296313 non-null  object \n",
            " 16  size          120519 non-null  object \n",
            " 17  type          334022 non-null  object \n",
            " 18  paint_color   296677 non-null  object \n",
            " 19  image_url     426812 non-null  object \n",
            " 20  description   426810 non-null  object \n",
            " 21  county        0 non-null       float64\n",
            " 22  state         426880 non-null  object \n",
            " 23  lat           420331 non-null  float64\n",
            " 24  long          420331 non-null  float64\n",
            " 25  posting_date  426812 non-null  object \n",
            "dtypes: float64(5), int64(2), object(19)\n",
            "memory usage: 84.7+ MB\n"
          ]
        }
      ],
      "source": [
        "cars_df.info()"
      ]
    },
    {
      "cell_type": "markdown",
      "metadata": {
        "id": "NCkp_IyzsN4r"
      },
      "source": [
        "# **Parte 1**. Preprocesamiento"
      ]
    },
    {
      "cell_type": "markdown",
      "metadata": {
        "id": "OegZ-_zmsjLf"
      },
      "source": [
        "1a)    Elimina las columnas que no serán relevantes para esta actividad: `id`, `VIN`, `url`, `image_url`, `description`, `posting_date`, `lat`, `lon`.\n"
      ]
    },
    {
      "cell_type": "code",
      "execution_count": 4,
      "metadata": {
        "id": "RC5jdEpJ7fYk"
      },
      "outputs": [
        {
          "data": {
            "text/plain": [
              "Index(['region', 'region_url', 'price', 'year', 'manufacturer', 'model',\n",
              "       'condition', 'cylinders', 'fuel', 'odometer', 'title_status',\n",
              "       'transmission', 'drive', 'size', 'type', 'paint_color', 'county',\n",
              "       'state'],\n",
              "      dtype='object')"
            ]
          },
          "execution_count": 4,
          "metadata": {},
          "output_type": "execute_result"
        }
      ],
      "source": [
        "columns_to_delete = [\"id\", \"VIN\", \"url\", \"image_url\",\n",
        "                     \"description\",\"posting_date\", \"lat\", \"long\"]\n",
        "filtered_cars_df = cars_df.drop(columns = columns_to_delete)\n",
        "cars_df = filtered_cars_df.copy(deep = True)\n",
        "cars_df.columns"
      ]
    },
    {
      "cell_type": "markdown",
      "metadata": {
        "id": "SKlWlKM3sa0o"
      },
      "source": [
        "1b) Almacena en una variable la cantidad de observaciones o registros del dataframe y en otra el número de columnas (después del borrado) para análisis posteriores."
      ]
    },
    {
      "cell_type": "code",
      "execution_count": 5,
      "metadata": {
        "id": "cqo7IbVAVGJk"
      },
      "outputs": [
        {
          "name": "stdout",
          "output_type": "stream",
          "text": [
            "Número de columnas 18\n",
            "Número de filas 426880\n"
          ]
        }
      ],
      "source": [
        "cars_df_columns = len(cars_df.columns)\n",
        "print(\"Número de columnas\", cars_df_columns)\n",
        "\n",
        "cars_df_lenght = len(cars_df)\n",
        "print(\"Número de filas\", cars_df_lenght)\n"
      ]
    },
    {
      "cell_type": "markdown",
      "metadata": {
        "id": "Oy9NansLCKIC"
      },
      "source": [
        "## Valores faltantes"
      ]
    },
    {
      "cell_type": "markdown",
      "metadata": {
        "id": "Lxx7KHBZtJPV"
      },
      "source": [
        "Cuando la cantidad de valores faltantes en una columna es lo suficientemente grande (aproximadamente más del 25%), estimar e ingresar los valores faltantes no tiene sentido, y eliminar el atributo es mejor que estimar los valores faltantes. https://learning.oreilly.com/library/view/hands-on-data-preprocessing/9781801072137/B17397_11_Final_NM_ePub.xhtml#_idParaDest-188\n",
        "\n",
        "Sin embargo, esto no es una regla aplicable a todos los escenarios y hay muchas discusiones en torno a ello. https://discuss.analyticsvidhya.com/t/what-should-be-the-allowed-percentage-of-missing-values/2456/10\n",
        "\n",
        "Para esta actividad  utilizaremos un umbral de 0.70 de la cantidad de registros (aquellas columnas que tengan 70% de valores no nulos). Considera además que estamos asumiendo que dichas variables son MCAR o MAR sin ninguna método gráfico o estadístico."
      ]
    },
    {
      "cell_type": "markdown",
      "metadata": {
        "id": "SI-uWA9cs0TZ"
      },
      "source": [
        "2a) Determina el porcentaje de valores faltantes por columna y elimina aquellas que posean el 30% o más de valores perdidos. Para ello utiliza el parámetro `thresh` de la función `dropna()` ¿Cuántas columnas se eliminaron?\n"
      ]
    },
    {
      "cell_type": "code",
      "execution_count": 6,
      "metadata": {
        "id": "pNiSZv9dCjr0"
      },
      "outputs": [
        {
          "data": {
            "text/plain": [
              "region            0.00\n",
              "region_url        0.00\n",
              "price             0.00\n",
              "year              0.28\n",
              "manufacturer      4.13\n",
              "model             1.24\n",
              "condition        40.79\n",
              "cylinders        41.62\n",
              "fuel              0.71\n",
              "odometer          1.03\n",
              "title_status      1.93\n",
              "transmission      0.60\n",
              "drive            30.59\n",
              "size             71.77\n",
              "type             21.75\n",
              "paint_color      30.50\n",
              "county          100.00\n",
              "state             0.00\n",
              "dtype: float64"
            ]
          },
          "metadata": {},
          "output_type": "display_data"
        }
      ],
      "source": [
        "missing_porcentage = ((cars_df.isna().sum()/len(cars_df)).round(4))*100\n",
        "display(missing_porcentage)"
      ]
    },
    {
      "cell_type": "code",
      "execution_count": 7,
      "metadata": {},
      "outputs": [],
      "source": [
        "cars_df.dropna(thresh =  len(cars_df) * 0.7, axis = 1, inplace = True)"
      ]
    },
    {
      "cell_type": "code",
      "execution_count": 8,
      "metadata": {},
      "outputs": [
        {
          "data": {
            "text/plain": [
              "region           0.00\n",
              "region_url       0.00\n",
              "price            0.00\n",
              "year             0.28\n",
              "manufacturer     4.13\n",
              "model            1.24\n",
              "fuel             0.71\n",
              "odometer         1.03\n",
              "title_status     1.93\n",
              "transmission     0.60\n",
              "type            21.75\n",
              "state            0.00\n",
              "dtype: float64"
            ]
          },
          "metadata": {},
          "output_type": "display_data"
        }
      ],
      "source": [
        "missing_porcentage = (cars_df.isna().mean() * 100).round(2)\n",
        "display(missing_porcentage)"
      ]
    },
    {
      "cell_type": "code",
      "execution_count": 9,
      "metadata": {},
      "outputs": [
        {
          "name": "stdout",
          "output_type": "stream",
          "text": [
            "Se borraron 6 columnas\n"
          ]
        }
      ],
      "source": [
        "print(\"Se borraron\", cars_df_columns - len(cars_df.columns), \"columnas\")"
      ]
    },
    {
      "cell_type": "markdown",
      "metadata": {
        "id": "TP9PRQdu92td"
      },
      "source": [
        "Además, cuando tenemos grandes conjuntos de datos, podemos eliminar filas que contienen valores nulos. Aunque, no se recomienda si el porcentaje de valores faltantes en el conjunto de datos es superior al 30%\n",
        "https://medium.com/analytics-vidhya/how-to-deal-with-missing-values-in-data-set-8e8f70ecf155"
      ]
    },
    {
      "cell_type": "markdown",
      "metadata": {
        "id": "R7lZuQncu4F6"
      },
      "source": [
        "2b) Borra los registros que contengan `NaN` en las columnas con menos del 5% de valores faltantes empleando el parámetro subset ¿Qué porcentaje de los registros iniciales se eliminaron?\n"
      ]
    },
    {
      "cell_type": "code",
      "execution_count": 10,
      "metadata": {
        "id": "9OWIHf2xzKMO"
      },
      "outputs": [],
      "source": [
        "cars_df.dropna(subset=cars_df.columns[cars_df.isna().mean() < 0.05], inplace = True)\n"
      ]
    },
    {
      "cell_type": "code",
      "execution_count": 11,
      "metadata": {},
      "outputs": [
        {
          "data": {
            "text/plain": [
              "region           0.00\n",
              "region_url       0.00\n",
              "price            0.00\n",
              "year             0.00\n",
              "manufacturer     0.00\n",
              "model            0.00\n",
              "fuel             0.00\n",
              "odometer         0.00\n",
              "title_status     0.00\n",
              "transmission     0.00\n",
              "type            21.21\n",
              "state            0.00\n",
              "dtype: float64"
            ]
          },
          "metadata": {},
          "output_type": "display_data"
        }
      ],
      "source": [
        "missing_porcentage = (cars_df.isna().mean() * 100).round(2)\n",
        "display(missing_porcentage)"
      ]
    },
    {
      "cell_type": "code",
      "execution_count": 12,
      "metadata": {},
      "outputs": [
        {
          "data": {
            "text/plain": [
              "426880"
            ]
          },
          "execution_count": 12,
          "metadata": {},
          "output_type": "execute_result"
        }
      ],
      "source": [
        "cars_df_lenght"
      ]
    },
    {
      "cell_type": "code",
      "execution_count": 13,
      "metadata": {},
      "outputs": [
        {
          "data": {
            "text/plain": [
              "389604"
            ]
          },
          "execution_count": 13,
          "metadata": {},
          "output_type": "execute_result"
        }
      ],
      "source": [
        "len(cars_df)"
      ]
    },
    {
      "cell_type": "code",
      "execution_count": 14,
      "metadata": {},
      "outputs": [
        {
          "name": "stdout",
          "output_type": "stream",
          "text": [
            "porcentaje de datos borrados 8.73 %\n"
          ]
        }
      ],
      "source": [
        "deleted_percentage = ((cars_df_lenght - len(cars_df)) / cars_df_lenght)*100\n",
        "deleted_percentage_rounded = round(deleted_percentage, 2)\n",
        "print(\"porcentaje de datos borrados\", deleted_percentage_rounded, \"%\")"
      ]
    },
    {
      "cell_type": "markdown",
      "metadata": {
        "id": "nLkHFRaM0J3m"
      },
      "source": [
        "2c) Si hay variables que aún poseen valores faltantes, utiliza el método de imputación apropiado (`mean, median, mode`)"
      ]
    },
    {
      "cell_type": "markdown",
      "metadata": {},
      "source": [
        "La única varaible faltante es la de `type`, Esto debido a que tuvo valores faltantes menores a 30% pero mayores a 5%. Por lo tanto es la última columna con valores faltantes. COmo la variable type es categórica, se ocupa fillna mode para los valores restantes con NAN"
      ]
    },
    {
      "cell_type": "code",
      "execution_count": 15,
      "metadata": {
        "id": "QXNQv4VhO6sq"
      },
      "outputs": [],
      "source": [
        "cars_df.fillna(value = cars_df[\"type\"].mode()[0], inplace = True)"
      ]
    },
    {
      "cell_type": "code",
      "execution_count": 16,
      "metadata": {},
      "outputs": [
        {
          "data": {
            "text/plain": [
              "region          0.0\n",
              "region_url      0.0\n",
              "price           0.0\n",
              "year            0.0\n",
              "manufacturer    0.0\n",
              "model           0.0\n",
              "fuel            0.0\n",
              "odometer        0.0\n",
              "title_status    0.0\n",
              "transmission    0.0\n",
              "type            0.0\n",
              "state           0.0\n",
              "dtype: float64"
            ]
          },
          "metadata": {},
          "output_type": "display_data"
        }
      ],
      "source": [
        "missing_porcentage = (cars_df.isna().mean() * 100).round(2)\n",
        "display(missing_porcentage)"
      ]
    },
    {
      "cell_type": "markdown",
      "metadata": {
        "id": "JUnSpPktCqZy"
      },
      "source": [
        "## Valores atípicos"
      ]
    },
    {
      "cell_type": "markdown",
      "metadata": {
        "id": "JzbnXqgG0k6-"
      },
      "source": [
        "3a) Obtén el histograma de las variables `price`, `year` y `odometer` para observar su distribución."
      ]
    },
    {
      "cell_type": "code",
      "execution_count": 17,
      "metadata": {},
      "outputs": [
        {
          "data": {
            "text/plain": [
              "<Axes: xlabel='price', ylabel='Count'>"
            ]
          },
          "execution_count": 17,
          "metadata": {},
          "output_type": "execute_result"
        },
        {
          "data": {
            "image/png": "[encoded data removed]",
            "text/plain": [
              "<Figure size 640x480 with 1 Axes>"
            ]
          },
          "metadata": {},
          "output_type": "display_data"
        }
      ],
      "source": [
        "sample = cars_df[\"price\"].sample(frac=0.03)\n",
        "sns.histplot(x = sample, kde = True)"
      ]
    },
    {
      "cell_type": "code",
      "execution_count": 18,
      "metadata": {},
      "outputs": [
        {
          "data": {
            "text/plain": [
              "<Axes: >"
            ]
          },
          "execution_count": 18,
          "metadata": {},
          "output_type": "execute_result"
        },
        {
          "data": {
            "image/png": "[encoded data removed]",
            "text/plain": [
              "<Figure size 640x480 with 1 Axes>"
            ]
          },
          "metadata": {},
          "output_type": "display_data"
        }
      ],
      "source": [
        "cars_df[\"price\"].hist()"
      ]
    },
    {
      "cell_type": "code",
      "execution_count": 19,
      "metadata": {},
      "outputs": [
        {
          "data": {
            "text/plain": [
              "<Axes: xlabel='year', ylabel='Count'>"
            ]
          },
          "execution_count": 19,
          "metadata": {},
          "output_type": "execute_result"
        },
        {
          "data": {
            "image/png": "[encoded data removed]",
            "text/plain": [
              "<Figure size 640x480 with 1 Axes>"
            ]
          },
          "metadata": {},
          "output_type": "display_data"
        }
      ],
      "source": [
        "sample = cars_df[\"year\"].sample(frac=0.03)\n",
        "sns.histplot(x = sample, kde= True)"
      ]
    },
    {
      "cell_type": "code",
      "execution_count": 20,
      "metadata": {},
      "outputs": [
        {
          "data": {
            "text/plain": [
              "<Axes: >"
            ]
          },
          "execution_count": 20,
          "metadata": {},
          "output_type": "execute_result"
        },
        {
          "data": {
            "image/png": "[encoded data removed]",
            "text/plain": [
              "<Figure size 640x480 with 1 Axes>"
            ]
          },
          "metadata": {},
          "output_type": "display_data"
        }
      ],
      "source": [
        "cars_df[\"year\"].hist()"
      ]
    },
    {
      "cell_type": "code",
      "execution_count": 21,
      "metadata": {},
      "outputs": [
        {
          "data": {
            "text/plain": [
              "<Axes: xlabel='odometer', ylabel='Count'>"
            ]
          },
          "execution_count": 21,
          "metadata": {},
          "output_type": "execute_result"
        },
        {
          "data": {
            "image/png": "[encoded data removed]",
            "text/plain": [
              "<Figure size 640x480 with 1 Axes>"
            ]
          },
          "metadata": {},
          "output_type": "display_data"
        }
      ],
      "source": [
        "sample = cars_df[\"odometer\"].sample(frac=0.03)\n",
        "sns.histplot(x = sample, kde= True)"
      ]
    },
    {
      "cell_type": "code",
      "execution_count": 22,
      "metadata": {},
      "outputs": [
        {
          "data": {
            "text/plain": [
              "<Axes: >"
            ]
          },
          "execution_count": 22,
          "metadata": {},
          "output_type": "execute_result"
        },
        {
          "data": {
            "image/png": "[encoded data removed]",
            "text/plain": [
              "<Figure size 640x480 with 1 Axes>"
            ]
          },
          "metadata": {},
          "output_type": "display_data"
        }
      ],
      "source": [
        "cars_df[\"odometer\"].hist()"
      ]
    },
    {
      "cell_type": "markdown",
      "metadata": {
        "id": "kP24u7B00qhW"
      },
      "source": [
        "3b) Añade la columna `age`, calculada a partir de `year`, para determinar los años del vehículo y una vez obtenida, elimina la columna `year`. Genera el histograma de la nueva variable."
      ]
    },
    {
      "cell_type": "code",
      "execution_count": 23,
      "metadata": {
        "id": "KNBYVkBu7AjE"
      },
      "outputs": [
        {
          "data": {
            "text/html": [
              "<div>\n",
              "<style scoped>\n",
              "    .dataframe tbody tr th:only-of-type {\n",
              "        vertical-align: middle;\n",
              "    }\n",
              "\n",
              "    .dataframe tbody tr th {\n",
              "        vertical-align: top;\n",
              "    }\n",
              "\n",
              "    .dataframe thead th {\n",
              "        text-align: right;\n",
              "    }\n",
              "</style>\n",
              "<table border=\"1\" class=\"dataframe\">\n",
              "  <thead>\n",
              "    <tr style=\"text-align: right;\">\n",
              "      <th></th>\n",
              "      <th>region</th>\n",
              "      <th>region_url</th>\n",
              "      <th>price</th>\n",
              "      <th>manufacturer</th>\n",
              "      <th>model</th>\n",
              "      <th>fuel</th>\n",
              "      <th>odometer</th>\n",
              "      <th>title_status</th>\n",
              "      <th>transmission</th>\n",
              "      <th>type</th>\n",
              "      <th>state</th>\n",
              "      <th>age</th>\n",
              "    </tr>\n",
              "  </thead>\n",
              "  <tbody>\n",
              "    <tr>\n",
              "      <th>27</th>\n",
              "      <td>auburn</td>\n",
              "      <td>https://auburn.craigslist.org</td>\n",
              "      <td>33590</td>\n",
              "      <td>gmc</td>\n",
              "      <td>sierra 1500 crew cab slt</td>\n",
              "      <td>gas</td>\n",
              "      <td>57923.0</td>\n",
              "      <td>clean</td>\n",
              "      <td>other</td>\n",
              "      <td>pickup</td>\n",
              "      <td>al</td>\n",
              "      <td>10.0</td>\n",
              "    </tr>\n",
              "    <tr>\n",
              "      <th>28</th>\n",
              "      <td>auburn</td>\n",
              "      <td>https://auburn.craigslist.org</td>\n",
              "      <td>22590</td>\n",
              "      <td>chevrolet</td>\n",
              "      <td>silverado 1500</td>\n",
              "      <td>gas</td>\n",
              "      <td>71229.0</td>\n",
              "      <td>clean</td>\n",
              "      <td>other</td>\n",
              "      <td>pickup</td>\n",
              "      <td>al</td>\n",
              "      <td>14.0</td>\n",
              "    </tr>\n",
              "    <tr>\n",
              "      <th>29</th>\n",
              "      <td>auburn</td>\n",
              "      <td>https://auburn.craigslist.org</td>\n",
              "      <td>39590</td>\n",
              "      <td>chevrolet</td>\n",
              "      <td>silverado 1500 crew</td>\n",
              "      <td>gas</td>\n",
              "      <td>19160.0</td>\n",
              "      <td>clean</td>\n",
              "      <td>other</td>\n",
              "      <td>pickup</td>\n",
              "      <td>al</td>\n",
              "      <td>4.0</td>\n",
              "    </tr>\n",
              "    <tr>\n",
              "      <th>30</th>\n",
              "      <td>auburn</td>\n",
              "      <td>https://auburn.craigslist.org</td>\n",
              "      <td>30990</td>\n",
              "      <td>toyota</td>\n",
              "      <td>tundra double cab sr</td>\n",
              "      <td>gas</td>\n",
              "      <td>41124.0</td>\n",
              "      <td>clean</td>\n",
              "      <td>other</td>\n",
              "      <td>pickup</td>\n",
              "      <td>al</td>\n",
              "      <td>7.0</td>\n",
              "    </tr>\n",
              "    <tr>\n",
              "      <th>31</th>\n",
              "      <td>auburn</td>\n",
              "      <td>https://auburn.craigslist.org</td>\n",
              "      <td>15000</td>\n",
              "      <td>ford</td>\n",
              "      <td>f-150 xlt</td>\n",
              "      <td>gas</td>\n",
              "      <td>128000.0</td>\n",
              "      <td>clean</td>\n",
              "      <td>automatic</td>\n",
              "      <td>truck</td>\n",
              "      <td>al</td>\n",
              "      <td>11.0</td>\n",
              "    </tr>\n",
              "    <tr>\n",
              "      <th>...</th>\n",
              "      <td>...</td>\n",
              "      <td>...</td>\n",
              "      <td>...</td>\n",
              "      <td>...</td>\n",
              "      <td>...</td>\n",
              "      <td>...</td>\n",
              "      <td>...</td>\n",
              "      <td>...</td>\n",
              "      <td>...</td>\n",
              "      <td>...</td>\n",
              "      <td>...</td>\n",
              "      <td>...</td>\n",
              "    </tr>\n",
              "    <tr>\n",
              "      <th>426875</th>\n",
              "      <td>wyoming</td>\n",
              "      <td>https://wyoming.craigslist.org</td>\n",
              "      <td>23590</td>\n",
              "      <td>nissan</td>\n",
              "      <td>maxima s sedan 4d</td>\n",
              "      <td>gas</td>\n",
              "      <td>32226.0</td>\n",
              "      <td>clean</td>\n",
              "      <td>other</td>\n",
              "      <td>sedan</td>\n",
              "      <td>wy</td>\n",
              "      <td>5.0</td>\n",
              "    </tr>\n",
              "    <tr>\n",
              "      <th>426876</th>\n",
              "      <td>wyoming</td>\n",
              "      <td>https://wyoming.craigslist.org</td>\n",
              "      <td>30590</td>\n",
              "      <td>volvo</td>\n",
              "      <td>s60 t5 momentum sedan 4d</td>\n",
              "      <td>gas</td>\n",
              "      <td>12029.0</td>\n",
              "      <td>clean</td>\n",
              "      <td>other</td>\n",
              "      <td>sedan</td>\n",
              "      <td>wy</td>\n",
              "      <td>4.0</td>\n",
              "    </tr>\n",
              "    <tr>\n",
              "      <th>426877</th>\n",
              "      <td>wyoming</td>\n",
              "      <td>https://wyoming.craigslist.org</td>\n",
              "      <td>34990</td>\n",
              "      <td>cadillac</td>\n",
              "      <td>xt4 sport suv 4d</td>\n",
              "      <td>diesel</td>\n",
              "      <td>4174.0</td>\n",
              "      <td>clean</td>\n",
              "      <td>other</td>\n",
              "      <td>hatchback</td>\n",
              "      <td>wy</td>\n",
              "      <td>4.0</td>\n",
              "    </tr>\n",
              "    <tr>\n",
              "      <th>426878</th>\n",
              "      <td>wyoming</td>\n",
              "      <td>https://wyoming.craigslist.org</td>\n",
              "      <td>28990</td>\n",
              "      <td>lexus</td>\n",
              "      <td>es 350 sedan 4d</td>\n",
              "      <td>gas</td>\n",
              "      <td>30112.0</td>\n",
              "      <td>clean</td>\n",
              "      <td>other</td>\n",
              "      <td>sedan</td>\n",
              "      <td>wy</td>\n",
              "      <td>6.0</td>\n",
              "    </tr>\n",
              "    <tr>\n",
              "      <th>426879</th>\n",
              "      <td>wyoming</td>\n",
              "      <td>https://wyoming.craigslist.org</td>\n",
              "      <td>30590</td>\n",
              "      <td>bmw</td>\n",
              "      <td>4 series 430i gran coupe</td>\n",
              "      <td>gas</td>\n",
              "      <td>22716.0</td>\n",
              "      <td>clean</td>\n",
              "      <td>other</td>\n",
              "      <td>coupe</td>\n",
              "      <td>wy</td>\n",
              "      <td>5.0</td>\n",
              "    </tr>\n",
              "  </tbody>\n",
              "</table>\n",
              "<p>389604 rows × 12 columns</p>\n",
              "</div>"
            ],
            "text/plain": [
              "         region                      region_url  price manufacturer  \\\n",
              "27       auburn   https://auburn.craigslist.org  33590          gmc   \n",
              "28       auburn   https://auburn.craigslist.org  22590    chevrolet   \n",
              "29       auburn   https://auburn.craigslist.org  39590    chevrolet   \n",
              "30       auburn   https://auburn.craigslist.org  30990       toyota   \n",
              "31       auburn   https://auburn.craigslist.org  15000         ford   \n",
              "...         ...                             ...    ...          ...   \n",
              "426875  wyoming  https://wyoming.craigslist.org  23590       nissan   \n",
              "426876  wyoming  https://wyoming.craigslist.org  30590        volvo   \n",
              "426877  wyoming  https://wyoming.craigslist.org  34990     cadillac   \n",
              "426878  wyoming  https://wyoming.craigslist.org  28990        lexus   \n",
              "426879  wyoming  https://wyoming.craigslist.org  30590          bmw   \n",
              "\n",
              "                           model    fuel  odometer title_status transmission  \\\n",
              "27      sierra 1500 crew cab slt     gas   57923.0        clean        other   \n",
              "28                silverado 1500     gas   71229.0        clean        other   \n",
              "29           silverado 1500 crew     gas   19160.0        clean        other   \n",
              "30          tundra double cab sr     gas   41124.0        clean        other   \n",
              "31                     f-150 xlt     gas  128000.0        clean    automatic   \n",
              "...                          ...     ...       ...          ...          ...   \n",
              "426875         maxima s sedan 4d     gas   32226.0        clean        other   \n",
              "426876  s60 t5 momentum sedan 4d     gas   12029.0        clean        other   \n",
              "426877          xt4 sport suv 4d  diesel    4174.0        clean        other   \n",
              "426878           es 350 sedan 4d     gas   30112.0        clean        other   \n",
              "426879  4 series 430i gran coupe     gas   22716.0        clean        other   \n",
              "\n",
              "             type state   age  \n",
              "27         pickup    al  10.0  \n",
              "28         pickup    al  14.0  \n",
              "29         pickup    al   4.0  \n",
              "30         pickup    al   7.0  \n",
              "31          truck    al  11.0  \n",
              "...           ...   ...   ...  \n",
              "426875      sedan    wy   5.0  \n",
              "426876      sedan    wy   4.0  \n",
              "426877  hatchback    wy   4.0  \n",
              "426878      sedan    wy   6.0  \n",
              "426879      coupe    wy   5.0  \n",
              "\n",
              "[389604 rows x 12 columns]"
            ]
          },
          "metadata": {},
          "output_type": "display_data"
        }
      ],
      "source": [
        "cars_df[\"age\"] = 2024 - cars_df[\"year\"]\n",
        "cars_df.drop(columns=[\"year\"], inplace=True)\n",
        "display(cars_df)"
      ]
    },
    {
      "cell_type": "code",
      "execution_count": 24,
      "metadata": {},
      "outputs": [
        {
          "data": {
            "text/plain": [
              "<Axes: xlabel='age', ylabel='Count'>"
            ]
          },
          "execution_count": 24,
          "metadata": {},
          "output_type": "execute_result"
        },
        {
          "data": {
            "image/png": "[encoded data removed]",
            "text/plain": [
              "<Figure size 640x480 with 1 Axes>"
            ]
          },
          "metadata": {},
          "output_type": "display_data"
        }
      ],
      "source": [
        "sample = cars_df[\"age\"].sample(frac=0.03)\n",
        "sns.histplot(x = sample, kde= True)"
      ]
    },
    {
      "cell_type": "code",
      "execution_count": 25,
      "metadata": {},
      "outputs": [
        {
          "data": {
            "text/plain": [
              "<Axes: >"
            ]
          },
          "execution_count": 25,
          "metadata": {},
          "output_type": "execute_result"
        },
        {
          "data": {
            "image/png": "[encoded data removed]",
            "text/plain": [
              "<Figure size 640x480 with 1 Axes>"
            ]
          },
          "metadata": {},
          "output_type": "display_data"
        }
      ],
      "source": [
        "cars_df[\"age\"].hist()"
      ]
    },
    {
      "cell_type": "markdown",
      "metadata": {
        "id": "CnpwE1Fd03gE"
      },
      "source": [
        "4a) Para visualizar si hay valores atípicos, genera gráficos de box plot para las tres variables (`price, age, odometer`)"
      ]
    },
    {
      "cell_type": "code",
      "execution_count": 26,
      "metadata": {},
      "outputs": [
        {
          "data": {
            "image/png": "[encoded data removed]",
            "text/plain": [
              "<Figure size 1500x500 with 3 Axes>"
            ]
          },
          "metadata": {},
          "output_type": "display_data"
        }
      ],
      "source": [
        "fig, axes = plt.subplots(1, 3, figsize=(15, 5))\n",
        "\n",
        "sns.boxplot(x=cars_df[\"price\"], ax=axes[0])\n",
        "sns.boxplot(x=cars_df[\"age\"], ax=axes[1])\n",
        "sns.boxplot(x=cars_df[\"odometer\"], ax=axes[2])\n",
        "\n",
        "axes[0].set_title(\"price\")\n",
        "axes[1].set_title(\"age\")\n",
        "axes[2].set_title(\"odometer\")\n",
        "\n",
        "plt.show()"
      ]
    },
    {
      "cell_type": "markdown",
      "metadata": {
        "id": "cSLCXXoFDmJz"
      },
      "source": [
        "Si el conjunto de outliers es “relativamente grande” (aunque sabemos que deben andar alrededor de un 5% del conjunto total de datos), realizar una investigación particular sobre ellos que permita tomar mejores decisiones."
      ]
    },
    {
      "cell_type": "code",
      "execution_count": 27,
      "metadata": {},
      "outputs": [
        {
          "name": "stderr",
          "output_type": "stream",
          "text": [
            "/var/folders/xj/856h4cfd3k52z_02341c_sxc0000gn/T/ipykernel_72214/3737644311.py:1: FutureWarning: DataFrame.applymap has been deprecated. Use DataFrame.map instead.\n",
            "  cars_df.describe().T.applymap(lambda x: f\"{x:.2f}\")\n"
          ]
        },
        {
          "data": {
            "text/html": [
              "<div>\n",
              "<style scoped>\n",
              "    .dataframe tbody tr th:only-of-type {\n",
              "        vertical-align: middle;\n",
              "    }\n",
              "\n",
              "    .dataframe tbody tr th {\n",
              "        vertical-align: top;\n",
              "    }\n",
              "\n",
              "    .dataframe thead th {\n",
              "        text-align: right;\n",
              "    }\n",
              "</style>\n",
              "<table border=\"1\" class=\"dataframe\">\n",
              "  <thead>\n",
              "    <tr style=\"text-align: right;\">\n",
              "      <th></th>\n",
              "      <th>count</th>\n",
              "      <th>mean</th>\n",
              "      <th>std</th>\n",
              "      <th>min</th>\n",
              "      <th>25%</th>\n",
              "      <th>50%</th>\n",
              "      <th>75%</th>\n",
              "      <th>max</th>\n",
              "    </tr>\n",
              "  </thead>\n",
              "  <tbody>\n",
              "    <tr>\n",
              "      <th>price</th>\n",
              "      <td>389604.00</td>\n",
              "      <td>63955.28</td>\n",
              "      <td>11448646.03</td>\n",
              "      <td>0.00</td>\n",
              "      <td>5995.00</td>\n",
              "      <td>13995.00</td>\n",
              "      <td>26590.00</td>\n",
              "      <td>3736928711.00</td>\n",
              "    </tr>\n",
              "    <tr>\n",
              "      <th>odometer</th>\n",
              "      <td>389604.00</td>\n",
              "      <td>96352.40</td>\n",
              "      <td>191418.11</td>\n",
              "      <td>0.00</td>\n",
              "      <td>38093.00</td>\n",
              "      <td>85753.00</td>\n",
              "      <td>133315.00</td>\n",
              "      <td>10000000.00</td>\n",
              "    </tr>\n",
              "    <tr>\n",
              "      <th>age</th>\n",
              "      <td>389604.00</td>\n",
              "      <td>12.39</td>\n",
              "      <td>8.64</td>\n",
              "      <td>2.00</td>\n",
              "      <td>7.00</td>\n",
              "      <td>10.00</td>\n",
              "      <td>15.00</td>\n",
              "      <td>124.00</td>\n",
              "    </tr>\n",
              "  </tbody>\n",
              "</table>\n",
              "</div>"
            ],
            "text/plain": [
              "              count      mean          std   min       25%       50%  \\\n",
              "price     389604.00  63955.28  11448646.03  0.00   5995.00  13995.00   \n",
              "odometer  389604.00  96352.40    191418.11  0.00  38093.00  85753.00   \n",
              "age       389604.00     12.39         8.64  2.00      7.00     10.00   \n",
              "\n",
              "                75%            max  \n",
              "price      26590.00  3736928711.00  \n",
              "odometer  133315.00    10000000.00  \n",
              "age           15.00         124.00  "
            ]
          },
          "execution_count": 27,
          "metadata": {},
          "output_type": "execute_result"
        }
      ],
      "source": [
        "cars_df.describe().T.applymap(lambda x: f\"{x:.2f}\")"
      ]
    },
    {
      "cell_type": "markdown",
      "metadata": {},
      "source": [
        "Todos tienen una desviación estándar muy alta, valores máximos muy altos comaparados al tercer cuartil. En la gráfica de boxplot se puede observar que hay valores muy altos de outliers."
      ]
    },
    {
      "cell_type": "markdown",
      "metadata": {
        "id": "JFiE-daA1Ist"
      },
      "source": [
        "4b) Calcula, para cada variable, el porcentaje de sus valores atípicos y elimínalos del dataframe ¿Qué porcentaje de los registros iniciales se eliminaron?"
      ]
    },
    {
      "cell_type": "code",
      "execution_count": 29,
      "metadata": {
        "id": "tPi6oaMcCzPC"
      },
      "outputs": [],
      "source": [
        "class Outliers():\n",
        "    @staticmethod\n",
        "    def outlier_detection(df_input : pd.DataFrame, df_column : str):\n",
        "        df = df_input.copy(deep = True)\n",
        "        Q1 = df[df_column].quantile(0.25)\n",
        "        Q3 = df[df_column].quantile(0.75)\n",
        "        IQR = Q3-Q1\n",
        "\n",
        "        lower_bound = Q1 - 1.5 * IQR\n",
        "        upper_bound = Q3 + 1.5 * IQR\n",
        "\n",
        "\n",
        "        BM = df[(df_column[\"price\"] >= lower_bound) & (cars_df[\"price\"] <= upper_bound)]\n",
        "        \n",
        "        deleted_percentage = (len(df[~BM]) / len(df))*100\n",
        "\n",
        "        percentage_rounded = round(deleted_percentage, 2)\n",
        "        print(\"porcentaje de outliers\", percentage_rounded, \"%\")\n",
        "        \n",
        "        df_output = df[BM]\n",
        "\n",
        "        return df_output"
      ]
    },
    {
      "cell_type": "code",
      "execution_count": 33,
      "metadata": {},
      "outputs": [],
      "source": [
        "class Outliers():\n",
        "    @staticmethod\n",
        "    def outlier_detection(df_input : pd.DataFrame, df_column : str):\n",
        "        df = df_input.copy(deep = True)\n",
        "        Q1 = df[df_column].quantile(0.25)\n",
        "        Q3 = df[df_column].quantile(0.75)\n",
        "        IQR = Q3-Q1\n",
        "\n",
        "        lower_bound = Q1 - 1.5 * IQR\n",
        "        upper_bound = Q3 + 1.5 * IQR\n",
        "\n",
        "        BM = df[(df[df_column] >= lower_bound) & (df[df_column] <= upper_bound)]\n",
        "        \n",
        "        deleted_percentage = ((len(df) - len(BM)) / len(df))*100\n",
        "\n",
        "        percentage_rounded = round(deleted_percentage, 2)\n",
        "        print(\"porcentaje de outliers\", percentage_rounded, \"%\")\n",
        "        \n",
        "        return BM\n"
      ]
    },
    {
      "cell_type": "code",
      "execution_count": 34,
      "metadata": {},
      "outputs": [
        {
          "name": "stdout",
          "output_type": "stream",
          "text": [
            "porcentaje de outliers 6.96 %\n"
          ]
        }
      ],
      "source": [
        "cars_df = Outliers.outlier_detection(cars_df, \"price\")"
      ]
    },
    {
      "cell_type": "code",
      "execution_count": 35,
      "metadata": {},
      "outputs": [
        {
          "name": "stdout",
          "output_type": "stream",
          "text": [
            "porcentaje de outliers 1.32 %\n"
          ]
        }
      ],
      "source": [
        "cars_df = Outliers.outlier_detection(cars_df, \"odometer\")"
      ]
    },
    {
      "cell_type": "code",
      "execution_count": 36,
      "metadata": {},
      "outputs": [
        {
          "name": "stdout",
          "output_type": "stream",
          "text": [
            "porcentaje de outliers 5.2 %\n"
          ]
        }
      ],
      "source": [
        "cars_df = Outliers.outlier_detection(cars_df, \"age\")"
      ]
    },
    {
      "cell_type": "markdown",
      "metadata": {
        "id": "dwCOyowi1XdX"
      },
      "source": [
        "4c) Dibuja nuevamente los histogramas para observar claramente el sesgo de las variables tras la eliminación de los outliers."
      ]
    },
    {
      "cell_type": "code",
      "execution_count": 37,
      "metadata": {},
      "outputs": [
        {
          "data": {
            "text/plain": [
              "<Axes: xlabel='price', ylabel='Count'>"
            ]
          },
          "execution_count": 37,
          "metadata": {},
          "output_type": "execute_result"
        },
        {
          "data": {
            "image/png": "[encoded data removed]",
            "text/plain": [
              "<Figure size 640x480 with 1 Axes>"
            ]
          },
          "metadata": {},
          "output_type": "display_data"
        }
      ],
      "source": [
        "sample = cars_df[\"price\"].sample(frac=0.03)\n",
        "sns.histplot(x = sample, kde = True)"
      ]
    },
    {
      "cell_type": "code",
      "execution_count": 38,
      "metadata": {},
      "outputs": [
        {
          "data": {
            "text/plain": [
              "<Axes: >"
            ]
          },
          "execution_count": 38,
          "metadata": {},
          "output_type": "execute_result"
        },
        {
          "data": {
            "image/png": "[encoded data removed]",
            "text/plain": [
              "<Figure size 640x480 with 1 Axes>"
            ]
          },
          "metadata": {},
          "output_type": "display_data"
        }
      ],
      "source": [
        "cars_df[\"price\"].hist()"
      ]
    },
    {
      "cell_type": "code",
      "execution_count": 40,
      "metadata": {},
      "outputs": [
        {
          "data": {
            "text/plain": [
              "<Axes: xlabel='age', ylabel='Count'>"
            ]
          },
          "execution_count": 40,
          "metadata": {},
          "output_type": "execute_result"
        },
        {
          "data": {
            "image/png": "[encoded data removed]",
            "text/plain": [
              "<Figure size 640x480 with 1 Axes>"
            ]
          },
          "metadata": {},
          "output_type": "display_data"
        }
      ],
      "source": [
        "sample = cars_df[\"age\"].sample(frac=0.03)\n",
        "sns.histplot(x = sample, kde= True)"
      ]
    },
    {
      "cell_type": "code",
      "execution_count": 41,
      "metadata": {},
      "outputs": [
        {
          "data": {
            "text/plain": [
              "<Axes: >"
            ]
          },
          "execution_count": 41,
          "metadata": {},
          "output_type": "execute_result"
        },
        {
          "data": {
            "image/png": "[encoded data removed]",
            "text/plain": [
              "<Figure size 640x480 with 1 Axes>"
            ]
          },
          "metadata": {},
          "output_type": "display_data"
        }
      ],
      "source": [
        "cars_df[\"age\"].hist()"
      ]
    },
    {
      "cell_type": "code",
      "execution_count": 42,
      "metadata": {},
      "outputs": [
        {
          "data": {
            "text/plain": [
              "<Axes: xlabel='odometer', ylabel='Count'>"
            ]
          },
          "execution_count": 42,
          "metadata": {},
          "output_type": "execute_result"
        },
        {
          "data": {
            "image/png": "[encoded data removed]",
            "text/plain": [
              "<Figure size 640x480 with 1 Axes>"
            ]
          },
          "metadata": {},
          "output_type": "display_data"
        }
      ],
      "source": [
        "sample = cars_df[\"odometer\"].sample(frac=0.03)\n",
        "sns.histplot(x = sample, kde= True)"
      ]
    },
    {
      "cell_type": "code",
      "execution_count": 43,
      "metadata": {},
      "outputs": [
        {
          "data": {
            "text/plain": [
              "<Axes: >"
            ]
          },
          "execution_count": 43,
          "metadata": {},
          "output_type": "execute_result"
        },
        {
          "data": {
            "image/png": "[encoded data removed]",
            "text/plain": [
              "<Figure size 640x480 with 1 Axes>"
            ]
          },
          "metadata": {},
          "output_type": "display_data"
        }
      ],
      "source": [
        "cars_df[\"odometer\"].hist()"
      ]
    },
    {
      "cell_type": "markdown",
      "metadata": {
        "id": "hzzT7f53oBE3"
      },
      "source": [
        "# **Parte 2**. Ingeniería de características"
      ]
    },
    {
      "cell_type": "markdown",
      "metadata": {
        "id": "qq6Y5lvS1lNA"
      },
      "source": [
        "## Transformando variables numéricas"
      ]
    },
    {
      "cell_type": "markdown",
      "metadata": {
        "id": "EryjdcZZebJQ"
      },
      "source": [
        "La distribución de las variables determinará que método usar y en qué orden. Por ejemplo, en variables sesgadas se debe realizar primero la transformación  y luego el escalamiento, ya que el efecto deseado es \"desinclinar\" las distribuciones del eje y ese efecto se maximiza cuando aplica en el rango completo en comparación con aplicarlo en variables con una desviación estándar unitaria (por z-score) o variables en el rango [0,1] (por Min-Max).\n",
        "\n",
        "Aplicar es escalamiento antes comprimiría la mayoría de los datos en un rango estrecho. Entonces se debe iniciar con transformar la característica en Gaussiana y luego escalarla."
      ]
    },
    {
      "cell_type": "markdown",
      "metadata": {
        "id": "KWiPJ9Mr37pE"
      },
      "source": [
        "5a) Genera gráficos Q-Q de las variables `price, age, odometer` para observar las diferencias entre sus distribuciones y la normal.\n"
      ]
    },
    {
      "cell_type": "code",
      "execution_count": null,
      "metadata": {
        "id": "JK6fCovqi_8b"
      },
      "outputs": [],
      "source": []
    },
    {
      "cell_type": "markdown",
      "metadata": {
        "id": "0iFAddRP9d3L"
      },
      "source": [
        "Las transformaciones *Box-Cox* y *Yeo-Johnson* son generalizaciones, pues incluyen casos especiales de transformaciones: logarítmica (`λ = 0`), recíproca (`λ = -1`),  raíz cuadrada (`λ = 0.5`) y más exponentes. En *Box-Cox* se evalúan varios valores de `λ` y se selecciona aquel que arroja la mejor transformación\n",
        "\n",
        "La transformación de *Yeo-Johnson* es una extensión de la transformación de *Box-Cox* que ya no está restringida a valores positivos. En otras palabras, la transformación de *Yeo-Johnson* se puede utilizar en variables con valores cero y negativos, así como valores positivos. Cuando la variable solo tiene valores positivos, la transformación de *Yeo-Johnson* es como la transformación de *Box-Cox* de la variable más uno.\n",
        "\n",
        "En este caso, como las variables `price` y `odometer` tienen valores de 0, utilizaremos *Yeo-Johnson*."
      ]
    },
    {
      "cell_type": "markdown",
      "metadata": {
        "id": "c2Ku4FXx4JRB"
      },
      "source": [
        "5b) Aplica la transformación Yeo-Johnson para reducir el sesgo en estas variables. Házlo en una copia del dataframe a la que denominarás `transf_df`."
      ]
    },
    {
      "cell_type": "code",
      "execution_count": null,
      "metadata": {
        "id": "h3lerMMowNwp"
      },
      "outputs": [],
      "source": []
    },
    {
      "cell_type": "markdown",
      "metadata": {
        "id": "sWTYPdle6b0y"
      },
      "source": [
        "5c) Dibuja nuevamente los gráficos Q-Q y los histogramas para observar el efecto de la transformación."
      ]
    },
    {
      "cell_type": "code",
      "execution_count": null,
      "metadata": {
        "id": "joI93I1Jmuo5"
      },
      "outputs": [],
      "source": []
    },
    {
      "cell_type": "markdown",
      "metadata": {
        "id": "ZCZTx1EJ6hYY"
      },
      "source": [
        "## Escalando variables numéricas"
      ]
    },
    {
      "cell_type": "markdown",
      "metadata": {
        "id": "9uCmCSTs6t88"
      },
      "source": [
        "6a) Como las tres variables poseen diferentes escalas, aplica el método Min-Max (al dataframe obtenido: `transf_df`) para que queden en el rango fijo [0 a 1]. Házlo en una copia del dataframe a la que denominarás `minmax_df`.\n"
      ]
    },
    {
      "cell_type": "code",
      "execution_count": null,
      "metadata": {
        "id": "0wiPtlcaYaCd"
      },
      "outputs": [],
      "source": []
    },
    {
      "cell_type": "markdown",
      "metadata": {
        "id": "-qnZqBV97GWY"
      },
      "source": [
        "6b) Dibuja nuevamente los histogramas para verificar que el escalamiento no cambia la distribución."
      ]
    },
    {
      "cell_type": "code",
      "execution_count": null,
      "metadata": {
        "id": "0GV-HuS4XawC"
      },
      "outputs": [],
      "source": []
    },
    {
      "cell_type": "markdown",
      "metadata": {
        "id": "F7fnBt2EpH8f"
      },
      "source": [
        "## Codificando variables categóricas"
      ]
    },
    {
      "cell_type": "markdown",
      "metadata": {
        "id": "L65WLdE67P2g"
      },
      "source": [
        "\n",
        "7a) Utiliza el método `describe()` para obtener el resumen de las estadísticas descriptivas en las variables categóricas."
      ]
    },
    {
      "cell_type": "code",
      "execution_count": null,
      "metadata": {
        "id": "Brq9wSlkC0wA"
      },
      "outputs": [],
      "source": []
    },
    {
      "cell_type": "markdown",
      "metadata": {
        "id": "xFos2wk37ZPN"
      },
      "source": [
        "7b) Según la cardinalidad observada, separa en dos listas (`highly_cardinal_variables` y `few_cardinal_variables`) los nombres de las variables con alta cardinalidad y baja cardinalidad respectivamente."
      ]
    },
    {
      "cell_type": "code",
      "execution_count": null,
      "metadata": {
        "id": "KQrvdvce7sM7"
      },
      "outputs": [],
      "source": []
    },
    {
      "cell_type": "markdown",
      "metadata": {
        "id": "lpvDGeOe7l0l"
      },
      "source": [
        "7c) Visualiza en gráficos de barras la frecuencias de las categorías para las variables con baja cardinalidad (en `few_cardinal_variables`)"
      ]
    },
    {
      "cell_type": "code",
      "execution_count": null,
      "metadata": {
        "id": "xsvq3cIO8nwL"
      },
      "outputs": [],
      "source": []
    },
    {
      "cell_type": "markdown",
      "metadata": {
        "id": "Oh_NXLM57xm3"
      },
      "source": [
        "8. Aplica codificación *one-hot* a las variables en `few_cardinal_variables`, borrando la primera categoría (`drop='first'`). Coloca el resultado en un dataframe denominado `onehot_df`."
      ]
    },
    {
      "cell_type": "code",
      "execution_count": null,
      "metadata": {
        "id": "RI_Lu8hZp783"
      },
      "outputs": [],
      "source": []
    },
    {
      "cell_type": "markdown",
      "metadata": {
        "id": "191XmIQr7_Jj"
      },
      "source": [
        "9. Aplica codificación binaria a las variables en `highly_cardinal_variables`."
      ]
    },
    {
      "cell_type": "code",
      "execution_count": null,
      "metadata": {
        "id": "SiNttZ-6-03x"
      },
      "outputs": [],
      "source": []
    },
    {
      "cell_type": "markdown",
      "metadata": {
        "id": "QRu3tbKA8HbQ"
      },
      "source": [
        "10. Concatena los dataframes obtenidos: `minmax_df` (cuyas variables numéricas ya están transformadas y escaladas) y las codificaciones anteriores (`onehot_df` y `binary_df`). Toma en cuenta que si los índices de los dataframes no coinciden, la concatenación no se realizará correctamente. Utiliza `reset_index(drop=True, inplace=True)` para restablecer los índices."
      ]
    },
    {
      "cell_type": "code",
      "execution_count": null,
      "metadata": {
        "id": "svK6DO298cCf"
      },
      "outputs": [],
      "source": []
    }
  ],
  "metadata": {
    "colab": {
      "provenance": []
    },
    "kernelspec": {
      "display_name": "Python 3",
      "language": "python",
      "name": "python3"
    },
    "language_info": {
      "codemirror_mode": {
        "name": "ipython",
        "version": 3
      },
      "file_extension": ".py",
      "mimetype": "text/x-python",
      "name": "python",
      "nbconvert_exporter": "python",
      "pygments_lexer": "ipython3",
      "version": "3.12.0"
    }
  },
  "nbformat": 4,
  "nbformat_minor": 0
}
